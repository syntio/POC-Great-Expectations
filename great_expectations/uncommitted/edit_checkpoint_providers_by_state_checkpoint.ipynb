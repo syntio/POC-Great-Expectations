{
 "cells": [
  {
   "cell_type": "markdown",
   "id": "50c8dd9f",
   "metadata": {},
   "source": [
    "# Create Your Checkpoint\n",
    "Use this notebook to configure a new Checkpoint and add it to your project:\n",
    "\n",
    "**Checkpoint Name**: `providers_by_state_checkpoint`"
   ]
  },
  {
   "cell_type": "code",
   "execution_count": 1,
   "id": "831519f4",
   "metadata": {},
   "outputs": [],
   "source": [
    "from ruamel.yaml import YAML\n",
    "import great_expectations as gx\n",
    "from pprint import pprint\n",
    "\n",
    "yaml = YAML()\n",
    "context = gx.get_context()"
   ]
  },
  {
   "cell_type": "markdown",
   "id": "5bc25313",
   "metadata": {},
   "source": [
    "# Create a Checkpoint Configuration\n",
    "\n",
    "**If you are new to Great Expectations or the Checkpoint feature**, you should start with SimpleCheckpoint because it includes default configurations like a default list of post validation actions.\n",
    "\n",
    "In the cell below we have created a sample Checkpoint configuration using **your configuration** and **SimpleCheckpoint** to run a single validation of a single Expectation Suite against a single Batch of data.\n",
    "\n",
    "To keep it simple, we are just choosing the first available instance of each of the following items you have configured in your Data Context:\n",
    "* Datasource\n",
    "* DataConnector\n",
    "* DataAsset\n",
    "* Partition\n",
    "* Expectation Suite\n",
    "\n",
    "Of course this is purely an example, you may edit this to your heart's content.\n",
    "\n",
    "**My configuration is not so simple - are there more advanced options?**\n",
    "\n",
    "Glad you asked! Checkpoints are very versatile. For example, you can validate many Batches in a single Checkpoint, validate Batches against different Expectation Suites or against many Expectation Suites, control the specific post-validation actions based on Expectation Suite / Batch / results of validation among other features. Check out our documentation on Checkpoints for more details and for instructions on how to implement other more advanced features including using the **Checkpoint** class:\n",
    "- https://docs.greatexpectations.io/docs/reference/checkpoints_and_actions\n",
    "- https://docs.greatexpectations.io/docs/guides/validation/checkpoints/how_to_create_a_new_checkpoint\n",
    "- https://docs.greatexpectations.io/docs/guides/validation/checkpoints/how_to_configure_a_new_checkpoint_using_test_yaml_config"
   ]
  },
  {
   "cell_type": "code",
   "execution_count": 4,
   "id": "19a0296a",
   "metadata": {},
   "outputs": [
    {
     "name": "stdout",
     "output_type": "stream",
     "text": [
      "\n",
      "name: providers_by_state_checkpoint\n",
      "config_version: 1.0\n",
      "class_name: Checkpoint\n",
      "run_name_template: \"%Y%m%d-%H%M%S-my-run-name-template\"\n",
      "validations:\n",
      "  - batch_request:\n",
      "      datasource_name: my_postgres_db\n",
      "      data_connector_name: default_inferred_data_connector_name\n",
      "      data_asset_name: count_providers_by_state\n",
      "      data_connector_query:\n",
      "        index: -1\n",
      "    expectation_suite_name: count_providers_by_state.critical\n",
      "action_list:\n",
      "    - name: store_validation_result\n",
      "      action:\n",
      "        class_name: StoreValidationResultAction\n",
      "    - name: store_evaluation_params\n",
      "      action:\n",
      "        class_name: StoreEvaluationParametersAction\n",
      "    - name: update_data_docs\n",
      "      action:\n",
      "        class_name: UpdateDataDocsAction\n",
      "\n"
     ]
    }
   ],
   "source": [
    "my_checkpoint_name = \"providers_by_state_checkpoint\" # This was populated from your CLI command.\n",
    "\n",
    "yaml_config = f\"\"\"\n",
    "name: {my_checkpoint_name}\n",
    "config_version: 1.0\n",
    "class_name: Checkpoint\n",
    "run_name_template: \"%Y%m%d-%H%M%S-my-run-name-template\"\n",
    "validations:\n",
    "  - batch_request:\n",
    "      datasource_name: my_postgres_db\n",
    "      data_connector_name: default_inferred_data_connector_name\n",
    "      data_asset_name: count_providers_by_state\n",
    "      data_connector_query:\n",
    "        index: -1\n",
    "    expectation_suite_name: count_providers_by_state.critical\n",
    "action_list:\n",
    "    - name: store_validation_result\n",
    "      action:\n",
    "        class_name: StoreValidationResultAction\n",
    "    - name: store_evaluation_params\n",
    "      action:\n",
    "        class_name: StoreEvaluationParametersAction\n",
    "    - name: update_data_docs\n",
    "      action:\n",
    "        class_name: UpdateDataDocsAction\n",
    "\"\"\"\n",
    "print(yaml_config)"
   ]
  },
  {
   "cell_type": "markdown",
   "id": "60c5a97e",
   "metadata": {},
   "source": [
    "# Customize Your Configuration\n",
    "The following cells show examples for listing your current configuration. You can replace values in the sample configuration with these values to customize your Checkpoint."
   ]
  },
  {
   "cell_type": "code",
   "execution_count": 2,
   "id": "4225131e",
   "metadata": {},
   "outputs": [
    {
     "name": "stdout",
     "output_type": "stream",
     "text": [
      "{'input_files': {'default_inferred_data_connector_name': ['state_abbreviations',\n",
      "                                                          'npi_small']},\n",
      " 'my_postgres_db': {'default_inferred_data_connector_name': ['npi_small',\n",
      "                                                             'state_abbreviations']}}\n"
     ]
    }
   ],
   "source": [
    "# Run this cell to print out the names of your Datasources, Data Connectors and Data Assets\n",
    "pprint(context.get_available_data_asset_names())"
   ]
  },
  {
   "cell_type": "code",
   "execution_count": 3,
   "id": "3a265c21",
   "metadata": {},
   "outputs": [
    {
     "data": {
      "text/plain": [
       "['count_providers_by_state.critical',\n",
       " 'npi_small_db_table.critical',\n",
       " 'npi_small_file.critical']"
      ]
     },
     "execution_count": 3,
     "metadata": {},
     "output_type": "execute_result"
    }
   ],
   "source": [
    "context.list_expectation_suite_names()"
   ]
  },
  {
   "cell_type": "markdown",
   "id": "5a1604c6",
   "metadata": {},
   "source": [
    "# Test Your Checkpoint Configuration\n",
    "Here we will test your Checkpoint configuration to make sure it is valid.\n",
    "\n",
    "This `test_yaml_config()` function is meant to enable fast dev loops. If your configuration is correct, this cell will show a message that you successfully instantiated a Checkpoint. You can continually edit your Checkpoint config yaml and re-run the cell to check until the new config is valid.\n",
    "\n",
    "If you instead wish to use python instead of yaml to configure your Checkpoint, you can use `context.add_checkpoint()` and specify all the required parameters."
   ]
  },
  {
   "cell_type": "code",
   "execution_count": 5,
   "id": "31fae2ec",
   "metadata": {},
   "outputs": [
    {
     "name": "stdout",
     "output_type": "stream",
     "text": [
      "Attempting to instantiate class from config...\n",
      "\tInstantiating as a Checkpoint, since class_name is Checkpoint\n",
      "\tSuccessfully instantiated Checkpoint\n",
      "\n",
      "\n",
      "Checkpoint class name: Checkpoint\n"
     ]
    }
   ],
   "source": [
    "my_checkpoint = context.test_yaml_config(yaml_config=yaml_config)"
   ]
  },
  {
   "cell_type": "markdown",
   "id": "d574da03",
   "metadata": {},
   "source": [
    "# Review Your Checkpoint\n",
    "\n",
    "You can run the following cell to print out the full yaml configuration. For example, if you used **SimpleCheckpoint**  this will show you the default action list."
   ]
  },
  {
   "cell_type": "code",
   "execution_count": 6,
   "id": "113ea329",
   "metadata": {},
   "outputs": [
    {
     "name": "stdout",
     "output_type": "stream",
     "text": [
      "name: providers_by_state_checkpoint\n",
      "config_version: 1.0\n",
      "template_name:\n",
      "module_name: great_expectations.checkpoint\n",
      "class_name: Checkpoint\n",
      "run_name_template: '%Y%m%d-%H%M%S-my-run-name-template'\n",
      "expectation_suite_name:\n",
      "batch_request: {}\n",
      "action_list:\n",
      "  - name: store_validation_result\n",
      "    action:\n",
      "      class_name: StoreValidationResultAction\n",
      "  - name: store_evaluation_params\n",
      "    action:\n",
      "      class_name: StoreEvaluationParametersAction\n",
      "  - name: update_data_docs\n",
      "    action:\n",
      "      class_name: UpdateDataDocsAction\n",
      "evaluation_parameters: {}\n",
      "runtime_configuration: {}\n",
      "validations:\n",
      "  - batch_request:\n",
      "      datasource_name: my_postgres_db\n",
      "      data_connector_name: default_inferred_data_connector_name\n",
      "      data_asset_name: count_providers_by_state\n",
      "      data_connector_query:\n",
      "        index: -1\n",
      "    expectation_suite_name: count_providers_by_state.critical\n",
      "profilers: []\n",
      "ge_cloud_id:\n",
      "expectation_suite_ge_cloud_id:\n",
      "\n"
     ]
    }
   ],
   "source": [
    "print(my_checkpoint.get_config(mode=\"yaml\"))"
   ]
  },
  {
   "cell_type": "markdown",
   "id": "09bc0e35",
   "metadata": {},
   "source": [
    "# Add Your Checkpoint\n",
    "\n",
    "Run the following cell to save this Checkpoint to your Checkpoint Store."
   ]
  },
  {
   "cell_type": "code",
   "execution_count": 7,
   "id": "08fb40c1",
   "metadata": {},
   "outputs": [
    {
     "data": {
      "text/plain": [
       "{\n",
       "  \"action_list\": [\n",
       "    {\n",
       "      \"name\": \"store_validation_result\",\n",
       "      \"action\": {\n",
       "        \"class_name\": \"StoreValidationResultAction\"\n",
       "      }\n",
       "    },\n",
       "    {\n",
       "      \"name\": \"store_evaluation_params\",\n",
       "      \"action\": {\n",
       "        \"class_name\": \"StoreEvaluationParametersAction\"\n",
       "      }\n",
       "    },\n",
       "    {\n",
       "      \"name\": \"update_data_docs\",\n",
       "      \"action\": {\n",
       "        \"class_name\": \"UpdateDataDocsAction\"\n",
       "      }\n",
       "    }\n",
       "  ],\n",
       "  \"batch_request\": {},\n",
       "  \"class_name\": \"Checkpoint\",\n",
       "  \"config_version\": 1.0,\n",
       "  \"evaluation_parameters\": {},\n",
       "  \"module_name\": \"great_expectations.checkpoint\",\n",
       "  \"name\": \"providers_by_state_checkpoint\",\n",
       "  \"profilers\": [],\n",
       "  \"run_name_template\": \"%Y%m%d-%H%M%S-my-run-name-template\",\n",
       "  \"runtime_configuration\": {},\n",
       "  \"validations\": [\n",
       "    {\n",
       "      \"batch_request\": {\n",
       "        \"datasource_name\": \"my_postgres_db\",\n",
       "        \"data_connector_name\": \"default_inferred_data_connector_name\",\n",
       "        \"data_asset_name\": \"count_providers_by_state\",\n",
       "        \"data_connector_query\": {\n",
       "          \"index\": -1\n",
       "        }\n",
       "      },\n",
       "      \"expectation_suite_name\": \"count_providers_by_state.critical\"\n",
       "    }\n",
       "  ]\n",
       "}"
      ]
     },
     "execution_count": 7,
     "metadata": {},
     "output_type": "execute_result"
    }
   ],
   "source": [
    "context.add_checkpoint(**yaml.load(yaml_config))"
   ]
  },
  {
   "cell_type": "markdown",
   "id": "6a1793c1",
   "metadata": {},
   "source": [
    "# Run Your Checkpoint & Open Data Docs(Optional)\n",
    "\n",
    "You may wish to run the Checkpoint now and review its output in Data Docs. If so uncomment and run the following cell."
   ]
  },
  {
   "cell_type": "code",
   "execution_count": 8,
   "id": "7a842f30",
   "metadata": {},
   "outputs": [
    {
     "ename": "KeyError",
     "evalue": "'data_asset_name count_providers_by_state is not recognized.'",
     "output_type": "error",
     "traceback": [
      "\u001b[1;31m---------------------------------------------------------------------------\u001b[0m",
      "\u001b[1;31mKeyError\u001b[0m                                  Traceback (most recent call last)",
      "File \u001b[1;32m~\\PycharmProjects\\my_gx_tutorial\\venv\\lib\\site-packages\\great_expectations\\datasource\\data_connector\\configured_asset_sql_data_connector.py:186\u001b[0m, in \u001b[0;36mConfiguredAssetSqlDataConnector.get_batch_definition_list_from_batch_request\u001b[1;34m(self, batch_request)\u001b[0m\n\u001b[0;32m    185\u001b[0m \u001b[38;5;28;01mtry\u001b[39;00m:\n\u001b[1;32m--> 186\u001b[0m     sub_cache \u001b[38;5;241m=\u001b[39m \u001b[38;5;28;43mself\u001b[39;49m\u001b[38;5;241;43m.\u001b[39;49m\u001b[43m_get_data_reference_list_from_cache_by_data_asset_name\u001b[49m\u001b[43m(\u001b[49m\n\u001b[0;32m    187\u001b[0m \u001b[43m        \u001b[49m\u001b[43mdata_asset_name\u001b[49m\u001b[38;5;241;43m=\u001b[39;49m\u001b[43mbatch_request\u001b[49m\u001b[38;5;241;43m.\u001b[39;49m\u001b[43mdata_asset_name\u001b[49m\n\u001b[0;32m    188\u001b[0m \u001b[43m    \u001b[49m\u001b[43m)\u001b[49m\n\u001b[0;32m    189\u001b[0m \u001b[38;5;28;01mexcept\u001b[39;00m \u001b[38;5;167;01mKeyError\u001b[39;00m:\n",
      "File \u001b[1;32m~\\PycharmProjects\\my_gx_tutorial\\venv\\lib\\site-packages\\great_expectations\\datasource\\data_connector\\configured_asset_sql_data_connector.py:615\u001b[0m, in \u001b[0;36mConfiguredAssetSqlDataConnector._get_data_reference_list_from_cache_by_data_asset_name\u001b[1;34m(self, data_asset_name)\u001b[0m\n\u001b[0;32m    612\u001b[0m \u001b[38;5;28;01mdef\u001b[39;00m \u001b[38;5;21m_get_data_reference_list_from_cache_by_data_asset_name\u001b[39m(\n\u001b[0;32m    613\u001b[0m     \u001b[38;5;28mself\u001b[39m, data_asset_name: \u001b[38;5;28mstr\u001b[39m\n\u001b[0;32m    614\u001b[0m ) \u001b[38;5;241m-\u001b[39m\u001b[38;5;241m>\u001b[39m List[\u001b[38;5;28mdict\u001b[39m]:\n\u001b[1;32m--> 615\u001b[0m     \u001b[38;5;28;01mreturn\u001b[39;00m \u001b[38;5;28;43mself\u001b[39;49m\u001b[38;5;241;43m.\u001b[39;49m\u001b[43m_data_references_cache\u001b[49m\u001b[43m[\u001b[49m\u001b[43mdata_asset_name\u001b[49m\u001b[43m]\u001b[49m\n",
      "\u001b[1;31mKeyError\u001b[0m: 'count_providers_by_state'",
      "\nDuring handling of the above exception, another exception occurred:\n",
      "\u001b[1;31mKeyError\u001b[0m                                  Traceback (most recent call last)",
      "Cell \u001b[1;32mIn[8], line 1\u001b[0m\n\u001b[1;32m----> 1\u001b[0m \u001b[43mcontext\u001b[49m\u001b[38;5;241;43m.\u001b[39;49m\u001b[43mrun_checkpoint\u001b[49m\u001b[43m(\u001b[49m\u001b[43mcheckpoint_name\u001b[49m\u001b[38;5;241;43m=\u001b[39;49m\u001b[43mmy_checkpoint_name\u001b[49m\u001b[43m)\u001b[49m\n\u001b[0;32m      2\u001b[0m context\u001b[38;5;241m.\u001b[39mopen_data_docs()\n",
      "File \u001b[1;32m~\\PycharmProjects\\my_gx_tutorial\\venv\\lib\\site-packages\\great_expectations\\core\\usage_statistics\\usage_statistics.py:318\u001b[0m, in \u001b[0;36musage_statistics_enabled_method.<locals>.usage_statistics_wrapped_method\u001b[1;34m(*args, **kwargs)\u001b[0m\n\u001b[0;32m    315\u001b[0m         args_payload \u001b[38;5;241m=\u001b[39m args_payload_fn(\u001b[38;5;241m*\u001b[39margs, \u001b[38;5;241m*\u001b[39m\u001b[38;5;241m*\u001b[39mkwargs) \u001b[38;5;129;01mor\u001b[39;00m {}\n\u001b[0;32m    316\u001b[0m         nested_update(event_payload, args_payload)\n\u001b[1;32m--> 318\u001b[0m     result \u001b[38;5;241m=\u001b[39m func(\u001b[38;5;241m*\u001b[39margs, \u001b[38;5;241m*\u001b[39m\u001b[38;5;241m*\u001b[39mkwargs)\n\u001b[0;32m    319\u001b[0m     message[\u001b[38;5;124m\"\u001b[39m\u001b[38;5;124msuccess\u001b[39m\u001b[38;5;124m\"\u001b[39m] \u001b[38;5;241m=\u001b[39m \u001b[38;5;28;01mTrue\u001b[39;00m\n\u001b[0;32m    320\u001b[0m \u001b[38;5;28;01mexcept\u001b[39;00m \u001b[38;5;167;01mException\u001b[39;00m:\n",
      "File \u001b[1;32m~\\PycharmProjects\\my_gx_tutorial\\venv\\lib\\site-packages\\great_expectations\\data_context\\data_context\\abstract_data_context.py:2172\u001b[0m, in \u001b[0;36mAbstractDataContext.run_checkpoint\u001b[1;34m(***failed resolving arguments***)\u001b[0m\n\u001b[0;32m   2169\u001b[0m \u001b[38;5;28;01mdel\u001b[39;00m ge_cloud_id\n\u001b[0;32m   2170\u001b[0m \u001b[38;5;28;01mdel\u001b[39;00m expectation_suite_ge_cloud_id\n\u001b[1;32m-> 2172\u001b[0m \u001b[38;5;28;01mreturn\u001b[39;00m \u001b[38;5;28mself\u001b[39m\u001b[38;5;241m.\u001b[39m_run_checkpoint(\n\u001b[0;32m   2173\u001b[0m     checkpoint_name\u001b[38;5;241m=\u001b[39mcheckpoint_name,\n\u001b[0;32m   2174\u001b[0m     \u001b[38;5;28mid\u001b[39m\u001b[38;5;241m=\u001b[39m\u001b[38;5;28mid\u001b[39m,\n\u001b[0;32m   2175\u001b[0m     template_name\u001b[38;5;241m=\u001b[39mtemplate_name,\n\u001b[0;32m   2176\u001b[0m     run_name_template\u001b[38;5;241m=\u001b[39mrun_name_template,\n\u001b[0;32m   2177\u001b[0m     expectation_suite_name\u001b[38;5;241m=\u001b[39mexpectation_suite_name,\n\u001b[0;32m   2178\u001b[0m     batch_request\u001b[38;5;241m=\u001b[39mbatch_request,\n\u001b[0;32m   2179\u001b[0m     action_list\u001b[38;5;241m=\u001b[39maction_list,\n\u001b[0;32m   2180\u001b[0m     evaluation_parameters\u001b[38;5;241m=\u001b[39mevaluation_parameters,\n\u001b[0;32m   2181\u001b[0m     runtime_configuration\u001b[38;5;241m=\u001b[39mruntime_configuration,\n\u001b[0;32m   2182\u001b[0m     validations\u001b[38;5;241m=\u001b[39mvalidations,\n\u001b[0;32m   2183\u001b[0m     profilers\u001b[38;5;241m=\u001b[39mprofilers,\n\u001b[0;32m   2184\u001b[0m     run_id\u001b[38;5;241m=\u001b[39mrun_id,\n\u001b[0;32m   2185\u001b[0m     run_name\u001b[38;5;241m=\u001b[39mrun_name,\n\u001b[0;32m   2186\u001b[0m     run_time\u001b[38;5;241m=\u001b[39mrun_time,\n\u001b[0;32m   2187\u001b[0m     result_format\u001b[38;5;241m=\u001b[39mresult_format,\n\u001b[0;32m   2188\u001b[0m     expectation_suite_ge_cloud_id\u001b[38;5;241m=\u001b[39mexpectation_suite_id,\n\u001b[0;32m   2189\u001b[0m     \u001b[38;5;241m*\u001b[39m\u001b[38;5;241m*\u001b[39mkwargs,\n\u001b[0;32m   2190\u001b[0m )\n",
      "File \u001b[1;32m~\\PycharmProjects\\my_gx_tutorial\\venv\\lib\\site-packages\\great_expectations\\data_context\\data_context\\abstract_data_context.py:2216\u001b[0m, in \u001b[0;36mAbstractDataContext._run_checkpoint\u001b[1;34m(self, checkpoint_name, id, template_name, run_name_template, expectation_suite_name, batch_request, action_list, evaluation_parameters, runtime_configuration, validations, profilers, run_id, run_name, run_time, result_format, expectation_suite_ge_cloud_id, **kwargs)\u001b[0m\n\u001b[0;32m   2192\u001b[0m \u001b[38;5;28;01mdef\u001b[39;00m \u001b[38;5;21m_run_checkpoint\u001b[39m(\n\u001b[0;32m   2193\u001b[0m     \u001b[38;5;28mself\u001b[39m,\n\u001b[0;32m   2194\u001b[0m     checkpoint_name: \u001b[38;5;28mstr\u001b[39m \u001b[38;5;241m|\u001b[39m \u001b[38;5;28;01mNone\u001b[39;00m \u001b[38;5;241m=\u001b[39m \u001b[38;5;28;01mNone\u001b[39;00m,\n\u001b[1;32m   (...)\u001b[0m\n\u001b[0;32m   2210\u001b[0m     \u001b[38;5;241m*\u001b[39m\u001b[38;5;241m*\u001b[39mkwargs,\n\u001b[0;32m   2211\u001b[0m ) \u001b[38;5;241m-\u001b[39m\u001b[38;5;241m>\u001b[39m CheckpointResult:\n\u001b[0;32m   2212\u001b[0m     checkpoint: Checkpoint \u001b[38;5;241m=\u001b[39m \u001b[38;5;28mself\u001b[39m\u001b[38;5;241m.\u001b[39mget_checkpoint(\n\u001b[0;32m   2213\u001b[0m         name\u001b[38;5;241m=\u001b[39mcheckpoint_name,\n\u001b[0;32m   2214\u001b[0m         \u001b[38;5;28mid\u001b[39m\u001b[38;5;241m=\u001b[39m\u001b[38;5;28mid\u001b[39m,\n\u001b[0;32m   2215\u001b[0m     )\n\u001b[1;32m-> 2216\u001b[0m     result: CheckpointResult \u001b[38;5;241m=\u001b[39m checkpoint\u001b[38;5;241m.\u001b[39mrun_with_runtime_args(\n\u001b[0;32m   2217\u001b[0m         template_name\u001b[38;5;241m=\u001b[39mtemplate_name,\n\u001b[0;32m   2218\u001b[0m         run_name_template\u001b[38;5;241m=\u001b[39mrun_name_template,\n\u001b[0;32m   2219\u001b[0m         expectation_suite_name\u001b[38;5;241m=\u001b[39mexpectation_suite_name,\n\u001b[0;32m   2220\u001b[0m         batch_request\u001b[38;5;241m=\u001b[39mbatch_request,\n\u001b[0;32m   2221\u001b[0m         action_list\u001b[38;5;241m=\u001b[39maction_list,\n\u001b[0;32m   2222\u001b[0m         evaluation_parameters\u001b[38;5;241m=\u001b[39mevaluation_parameters,\n\u001b[0;32m   2223\u001b[0m         runtime_configuration\u001b[38;5;241m=\u001b[39mruntime_configuration,\n\u001b[0;32m   2224\u001b[0m         validations\u001b[38;5;241m=\u001b[39mvalidations,\n\u001b[0;32m   2225\u001b[0m         profilers\u001b[38;5;241m=\u001b[39mprofilers,\n\u001b[0;32m   2226\u001b[0m         run_id\u001b[38;5;241m=\u001b[39mrun_id,\n\u001b[0;32m   2227\u001b[0m         run_name\u001b[38;5;241m=\u001b[39mrun_name,\n\u001b[0;32m   2228\u001b[0m         run_time\u001b[38;5;241m=\u001b[39mrun_time,\n\u001b[0;32m   2229\u001b[0m         result_format\u001b[38;5;241m=\u001b[39mresult_format,\n\u001b[0;32m   2230\u001b[0m         expectation_suite_ge_cloud_id\u001b[38;5;241m=\u001b[39mexpectation_suite_ge_cloud_id,\n\u001b[0;32m   2231\u001b[0m         \u001b[38;5;241m*\u001b[39m\u001b[38;5;241m*\u001b[39mkwargs,\n\u001b[0;32m   2232\u001b[0m     )\n\u001b[0;32m   2233\u001b[0m     \u001b[38;5;28;01mreturn\u001b[39;00m result\n",
      "File \u001b[1;32m~\\PycharmProjects\\my_gx_tutorial\\venv\\lib\\site-packages\\great_expectations\\checkpoint\\checkpoint.py:891\u001b[0m, in \u001b[0;36mCheckpoint.run_with_runtime_args\u001b[1;34m(self, template_name, run_name_template, expectation_suite_name, batch_request, validator, action_list, evaluation_parameters, runtime_configuration, validations, profilers, run_id, run_name, run_time, result_format, expectation_suite_ge_cloud_id, **kwargs)\u001b[0m\n\u001b[0;32m    884\u001b[0m checkpoint_run_arguments: \u001b[38;5;28mdict\u001b[39m \u001b[38;5;241m=\u001b[39m \u001b[38;5;28mdict\u001b[39m(\u001b[38;5;241m*\u001b[39m\u001b[38;5;241m*\u001b[39mcheckpoint_config, \u001b[38;5;241m*\u001b[39m\u001b[38;5;241m*\u001b[39mkwargs)\n\u001b[0;32m    885\u001b[0m filter_properties_dict(\n\u001b[0;32m    886\u001b[0m     properties\u001b[38;5;241m=\u001b[39mcheckpoint_run_arguments,\n\u001b[0;32m    887\u001b[0m     clean_falsy\u001b[38;5;241m=\u001b[39m\u001b[38;5;28;01mTrue\u001b[39;00m,\n\u001b[0;32m    888\u001b[0m     inplace\u001b[38;5;241m=\u001b[39m\u001b[38;5;28;01mTrue\u001b[39;00m,\n\u001b[0;32m    889\u001b[0m )\n\u001b[1;32m--> 891\u001b[0m \u001b[38;5;28;01mreturn\u001b[39;00m \u001b[38;5;28mself\u001b[39m\u001b[38;5;241m.\u001b[39mrun(\u001b[38;5;241m*\u001b[39m\u001b[38;5;241m*\u001b[39mcheckpoint_run_arguments)\n",
      "File \u001b[1;32m~\\PycharmProjects\\my_gx_tutorial\\venv\\lib\\site-packages\\great_expectations\\core\\usage_statistics\\usage_statistics.py:318\u001b[0m, in \u001b[0;36musage_statistics_enabled_method.<locals>.usage_statistics_wrapped_method\u001b[1;34m(*args, **kwargs)\u001b[0m\n\u001b[0;32m    315\u001b[0m         args_payload \u001b[38;5;241m=\u001b[39m args_payload_fn(\u001b[38;5;241m*\u001b[39margs, \u001b[38;5;241m*\u001b[39m\u001b[38;5;241m*\u001b[39mkwargs) \u001b[38;5;129;01mor\u001b[39;00m {}\n\u001b[0;32m    316\u001b[0m         nested_update(event_payload, args_payload)\n\u001b[1;32m--> 318\u001b[0m     result \u001b[38;5;241m=\u001b[39m func(\u001b[38;5;241m*\u001b[39margs, \u001b[38;5;241m*\u001b[39m\u001b[38;5;241m*\u001b[39mkwargs)\n\u001b[0;32m    319\u001b[0m     message[\u001b[38;5;124m\"\u001b[39m\u001b[38;5;124msuccess\u001b[39m\u001b[38;5;124m\"\u001b[39m] \u001b[38;5;241m=\u001b[39m \u001b[38;5;28;01mTrue\u001b[39;00m\n\u001b[0;32m    320\u001b[0m \u001b[38;5;28;01mexcept\u001b[39;00m \u001b[38;5;167;01mException\u001b[39;00m:\n",
      "File \u001b[1;32m~\\PycharmProjects\\my_gx_tutorial\\venv\\lib\\site-packages\\great_expectations\\checkpoint\\checkpoint.py:291\u001b[0m, in \u001b[0;36mBaseCheckpoint.run\u001b[1;34m(self, template_name, run_name_template, expectation_suite_name, batch_request, validator, action_list, evaluation_parameters, runtime_configuration, validations, profilers, run_id, run_name, run_time, result_format, expectation_suite_ge_cloud_id)\u001b[0m\n\u001b[0;32m    289\u001b[0m \u001b[38;5;28;01mif\u001b[39;00m \u001b[38;5;28mlen\u001b[39m(validations) \u001b[38;5;241m>\u001b[39m \u001b[38;5;241m0\u001b[39m:\n\u001b[0;32m    290\u001b[0m     \u001b[38;5;28;01mfor\u001b[39;00m idx, validation_dict \u001b[38;5;129;01min\u001b[39;00m \u001b[38;5;28menumerate\u001b[39m(validations):\n\u001b[1;32m--> 291\u001b[0m         \u001b[38;5;28;43mself\u001b[39;49m\u001b[38;5;241;43m.\u001b[39;49m\u001b[43m_run_validation\u001b[49m\u001b[43m(\u001b[49m\n\u001b[0;32m    292\u001b[0m \u001b[43m            \u001b[49m\u001b[43msubstituted_runtime_config\u001b[49m\u001b[38;5;241;43m=\u001b[39;49m\u001b[43msubstituted_runtime_config\u001b[49m\u001b[43m,\u001b[49m\n\u001b[0;32m    293\u001b[0m \u001b[43m            \u001b[49m\u001b[43masync_validation_operator_results\u001b[49m\u001b[38;5;241;43m=\u001b[39;49m\u001b[43masync_validation_operator_results\u001b[49m\u001b[43m,\u001b[49m\n\u001b[0;32m    294\u001b[0m \u001b[43m            \u001b[49m\u001b[43masync_executor\u001b[49m\u001b[38;5;241;43m=\u001b[39;49m\u001b[43masync_executor\u001b[49m\u001b[43m,\u001b[49m\n\u001b[0;32m    295\u001b[0m \u001b[43m            \u001b[49m\u001b[43mresult_format\u001b[49m\u001b[38;5;241;43m=\u001b[39;49m\u001b[43mresult_format\u001b[49m\u001b[43m,\u001b[49m\n\u001b[0;32m    296\u001b[0m \u001b[43m            \u001b[49m\u001b[43mrun_id\u001b[49m\u001b[38;5;241;43m=\u001b[39;49m\u001b[43mrun_id\u001b[49m\u001b[43m,\u001b[49m\n\u001b[0;32m    297\u001b[0m \u001b[43m            \u001b[49m\u001b[43midx\u001b[49m\u001b[38;5;241;43m=\u001b[39;49m\u001b[43midx\u001b[49m\u001b[43m,\u001b[49m\n\u001b[0;32m    298\u001b[0m \u001b[43m            \u001b[49m\u001b[43mvalidation_dict\u001b[49m\u001b[38;5;241;43m=\u001b[39;49m\u001b[43mvalidation_dict\u001b[49m\u001b[43m,\u001b[49m\n\u001b[0;32m    299\u001b[0m \u001b[43m        \u001b[49m\u001b[43m)\u001b[49m\n\u001b[0;32m    300\u001b[0m \u001b[38;5;28;01melse\u001b[39;00m:\n\u001b[0;32m    301\u001b[0m     \u001b[38;5;28mself\u001b[39m\u001b[38;5;241m.\u001b[39m_run_validation(\n\u001b[0;32m    302\u001b[0m         substituted_runtime_config\u001b[38;5;241m=\u001b[39msubstituted_runtime_config,\n\u001b[0;32m    303\u001b[0m         async_validation_operator_results\u001b[38;5;241m=\u001b[39masync_validation_operator_results,\n\u001b[1;32m   (...)\u001b[0m\n\u001b[0;32m    306\u001b[0m         run_id\u001b[38;5;241m=\u001b[39mrun_id,\n\u001b[0;32m    307\u001b[0m     )\n",
      "File \u001b[1;32m~\\PycharmProjects\\my_gx_tutorial\\venv\\lib\\site-packages\\great_expectations\\checkpoint\\checkpoint.py:460\u001b[0m, in \u001b[0;36mBaseCheckpoint._run_validation\u001b[1;34m(self, substituted_runtime_config, async_validation_operator_results, async_executor, result_format, run_id, idx, validation_dict)\u001b[0m\n\u001b[0;32m    455\u001b[0m \u001b[38;5;28;01mif\u001b[39;00m include_rendered_content \u001b[38;5;129;01mis\u001b[39;00m \u001b[38;5;28;01mNone\u001b[39;00m:\n\u001b[0;32m    456\u001b[0m     include_rendered_content \u001b[38;5;241m=\u001b[39m (\n\u001b[0;32m    457\u001b[0m         \u001b[38;5;28mself\u001b[39m\u001b[38;5;241m.\u001b[39m_data_context\u001b[38;5;241m.\u001b[39m_determine_if_expectation_validation_result_include_rendered_content()\n\u001b[0;32m    458\u001b[0m     )\n\u001b[1;32m--> 460\u001b[0m validator: Validator \u001b[38;5;241m=\u001b[39m \u001b[38;5;28mself\u001b[39m\u001b[38;5;241m.\u001b[39m_validator \u001b[38;5;129;01mor\u001b[39;00m \u001b[38;5;28;43mself\u001b[39;49m\u001b[38;5;241;43m.\u001b[39;49m\u001b[43mdata_context\u001b[49m\u001b[38;5;241;43m.\u001b[39;49m\u001b[43mget_validator\u001b[49m\u001b[43m(\u001b[49m\n\u001b[0;32m    461\u001b[0m \u001b[43m    \u001b[49m\u001b[43mbatch_request\u001b[49m\u001b[38;5;241;43m=\u001b[39;49m\u001b[43mbatch_request\u001b[49m\u001b[43m,\u001b[49m\n\u001b[0;32m    462\u001b[0m \u001b[43m    \u001b[49m\u001b[43mexpectation_suite_name\u001b[49m\u001b[38;5;241;43m=\u001b[39;49m\u001b[43mexpectation_suite_name\u001b[49m\n\u001b[0;32m    463\u001b[0m \u001b[43m    \u001b[49m\u001b[38;5;28;43;01mif\u001b[39;49;00m\u001b[43m \u001b[49m\u001b[38;5;129;43;01mnot\u001b[39;49;00m\u001b[43m \u001b[49m\u001b[38;5;28;43mself\u001b[39;49m\u001b[38;5;241;43m.\u001b[39;49m\u001b[43m_using_cloud_context\u001b[49m\n\u001b[0;32m    464\u001b[0m \u001b[43m    \u001b[49m\u001b[38;5;28;43;01melse\u001b[39;49;00m\u001b[43m \u001b[49m\u001b[38;5;28;43;01mNone\u001b[39;49;00m\u001b[43m,\u001b[49m\n\u001b[0;32m    465\u001b[0m \u001b[43m    \u001b[49m\u001b[43mexpectation_suite_ge_cloud_id\u001b[49m\u001b[38;5;241;43m=\u001b[39;49m\u001b[43m(\u001b[49m\n\u001b[0;32m    466\u001b[0m \u001b[43m        \u001b[49m\u001b[43mexpectation_suite_ge_cloud_id\u001b[49m\u001b[43m \u001b[49m\u001b[38;5;28;43;01mif\u001b[39;49;00m\u001b[43m \u001b[49m\u001b[38;5;28;43mself\u001b[39;49m\u001b[38;5;241;43m.\u001b[39;49m\u001b[43m_using_cloud_context\u001b[49m\u001b[43m \u001b[49m\u001b[38;5;28;43;01melse\u001b[39;49;00m\u001b[43m \u001b[49m\u001b[38;5;28;43;01mNone\u001b[39;49;00m\n\u001b[0;32m    467\u001b[0m \u001b[43m    \u001b[49m\u001b[43m)\u001b[49m\u001b[43m,\u001b[49m\n\u001b[0;32m    468\u001b[0m \u001b[43m    \u001b[49m\u001b[43minclude_rendered_content\u001b[49m\u001b[38;5;241;43m=\u001b[39;49m\u001b[43minclude_rendered_content\u001b[49m\u001b[43m,\u001b[49m\n\u001b[0;32m    469\u001b[0m \u001b[43m\u001b[49m\u001b[43m)\u001b[49m\n\u001b[0;32m    471\u001b[0m action_list: \u001b[38;5;28mlist\u001b[39m \u001b[38;5;241m=\u001b[39m substituted_validation_dict\u001b[38;5;241m.\u001b[39mget(\u001b[38;5;124m\"\u001b[39m\u001b[38;5;124maction_list\u001b[39m\u001b[38;5;124m\"\u001b[39m)\n\u001b[0;32m    472\u001b[0m runtime_configuration_validation \u001b[38;5;241m=\u001b[39m substituted_validation_dict\u001b[38;5;241m.\u001b[39mget(\n\u001b[0;32m    473\u001b[0m     \u001b[38;5;124m\"\u001b[39m\u001b[38;5;124mruntime_configuration\u001b[39m\u001b[38;5;124m\"\u001b[39m, {}\n\u001b[0;32m    474\u001b[0m )\n",
      "File \u001b[1;32m~\\PycharmProjects\\my_gx_tutorial\\venv\\lib\\site-packages\\great_expectations\\data_context\\data_context\\abstract_data_context.py:2442\u001b[0m, in \u001b[0;36mAbstractDataContext.get_validator\u001b[1;34m(***failed resolving arguments***)\u001b[0m\n\u001b[0;32m   2438\u001b[0m         batch_request_list \u001b[38;5;241m=\u001b[39m [batch_request]  \u001b[38;5;66;03m# type: ignore[list-item]\u001b[39;00m\n\u001b[0;32m   2440\u001b[0m     \u001b[38;5;28;01mfor\u001b[39;00m batch_request \u001b[38;5;129;01min\u001b[39;00m batch_request_list:\n\u001b[0;32m   2441\u001b[0m         batch_list\u001b[38;5;241m.\u001b[39mextend(\n\u001b[1;32m-> 2442\u001b[0m             \u001b[38;5;28mself\u001b[39m\u001b[38;5;241m.\u001b[39mget_batch_list(\n\u001b[0;32m   2443\u001b[0m                 datasource_name\u001b[38;5;241m=\u001b[39mdatasource_name,\n\u001b[0;32m   2444\u001b[0m                 data_connector_name\u001b[38;5;241m=\u001b[39mdata_connector_name,\n\u001b[0;32m   2445\u001b[0m                 data_asset_name\u001b[38;5;241m=\u001b[39mdata_asset_name,\n\u001b[0;32m   2446\u001b[0m                 batch_request\u001b[38;5;241m=\u001b[39mbatch_request,\n\u001b[0;32m   2447\u001b[0m                 batch_data\u001b[38;5;241m=\u001b[39mbatch_data,\n\u001b[0;32m   2448\u001b[0m                 data_connector_query\u001b[38;5;241m=\u001b[39mdata_connector_query,\n\u001b[0;32m   2449\u001b[0m                 batch_identifiers\u001b[38;5;241m=\u001b[39mbatch_identifiers,\n\u001b[0;32m   2450\u001b[0m                 limit\u001b[38;5;241m=\u001b[39mlimit,\n\u001b[0;32m   2451\u001b[0m                 index\u001b[38;5;241m=\u001b[39mindex,\n\u001b[0;32m   2452\u001b[0m                 custom_filter_function\u001b[38;5;241m=\u001b[39mcustom_filter_function,\n\u001b[0;32m   2453\u001b[0m                 sampling_method\u001b[38;5;241m=\u001b[39msampling_method,\n\u001b[0;32m   2454\u001b[0m                 sampling_kwargs\u001b[38;5;241m=\u001b[39msampling_kwargs,\n\u001b[0;32m   2455\u001b[0m                 splitter_method\u001b[38;5;241m=\u001b[39msplitter_method,\n\u001b[0;32m   2456\u001b[0m                 splitter_kwargs\u001b[38;5;241m=\u001b[39msplitter_kwargs,\n\u001b[0;32m   2457\u001b[0m                 runtime_parameters\u001b[38;5;241m=\u001b[39mruntime_parameters,\n\u001b[0;32m   2458\u001b[0m                 query\u001b[38;5;241m=\u001b[39mquery,\n\u001b[0;32m   2459\u001b[0m                 path\u001b[38;5;241m=\u001b[39mpath,\n\u001b[0;32m   2460\u001b[0m                 batch_filter_parameters\u001b[38;5;241m=\u001b[39mbatch_filter_parameters,\n\u001b[0;32m   2461\u001b[0m                 batch_spec_passthrough\u001b[38;5;241m=\u001b[39mbatch_spec_passthrough,\n\u001b[0;32m   2462\u001b[0m                 \u001b[38;5;241m*\u001b[39m\u001b[38;5;241m*\u001b[39mkwargs,\n\u001b[0;32m   2463\u001b[0m             )\n\u001b[0;32m   2464\u001b[0m         )\n\u001b[0;32m   2466\u001b[0m \u001b[38;5;28;01mreturn\u001b[39;00m \u001b[38;5;28mself\u001b[39m\u001b[38;5;241m.\u001b[39mget_validator_using_batch_list(\n\u001b[0;32m   2467\u001b[0m     expectation_suite\u001b[38;5;241m=\u001b[39mexpectation_suite,  \u001b[38;5;66;03m# type: ignore[arg-type]\u001b[39;00m\n\u001b[0;32m   2468\u001b[0m     batch_list\u001b[38;5;241m=\u001b[39mbatch_list,\n\u001b[0;32m   2469\u001b[0m     include_rendered_content\u001b[38;5;241m=\u001b[39minclude_rendered_content,\n\u001b[0;32m   2470\u001b[0m )\n",
      "File \u001b[1;32m~\\PycharmProjects\\my_gx_tutorial\\venv\\lib\\site-packages\\great_expectations\\core\\usage_statistics\\usage_statistics.py:318\u001b[0m, in \u001b[0;36musage_statistics_enabled_method.<locals>.usage_statistics_wrapped_method\u001b[1;34m(*args, **kwargs)\u001b[0m\n\u001b[0;32m    315\u001b[0m         args_payload \u001b[38;5;241m=\u001b[39m args_payload_fn(\u001b[38;5;241m*\u001b[39margs, \u001b[38;5;241m*\u001b[39m\u001b[38;5;241m*\u001b[39mkwargs) \u001b[38;5;129;01mor\u001b[39;00m {}\n\u001b[0;32m    316\u001b[0m         nested_update(event_payload, args_payload)\n\u001b[1;32m--> 318\u001b[0m     result \u001b[38;5;241m=\u001b[39m func(\u001b[38;5;241m*\u001b[39margs, \u001b[38;5;241m*\u001b[39m\u001b[38;5;241m*\u001b[39mkwargs)\n\u001b[0;32m    319\u001b[0m     message[\u001b[38;5;124m\"\u001b[39m\u001b[38;5;124msuccess\u001b[39m\u001b[38;5;124m\"\u001b[39m] \u001b[38;5;241m=\u001b[39m \u001b[38;5;28;01mTrue\u001b[39;00m\n\u001b[0;32m    320\u001b[0m \u001b[38;5;28;01mexcept\u001b[39;00m \u001b[38;5;167;01mException\u001b[39;00m:\n",
      "File \u001b[1;32m~\\PycharmProjects\\my_gx_tutorial\\venv\\lib\\site-packages\\great_expectations\\data_context\\data_context\\abstract_data_context.py:2609\u001b[0m, in \u001b[0;36mAbstractDataContext.get_batch_list\u001b[1;34m(self, datasource_name, data_connector_name, data_asset_name, batch_request, batch_data, data_connector_query, batch_identifiers, limit, index, custom_filter_function, sampling_method, sampling_kwargs, splitter_method, splitter_kwargs, runtime_parameters, query, path, batch_filter_parameters, batch_spec_passthrough, **kwargs)\u001b[0m\n\u001b[0;32m   2533\u001b[0m \u001b[38;5;129m@public_api\u001b[39m\n\u001b[0;32m   2534\u001b[0m \u001b[38;5;129m@usage_statistics_enabled_method\u001b[39m(\n\u001b[0;32m   2535\u001b[0m     event_name\u001b[38;5;241m=\u001b[39mUsageStatsEvents\u001b[38;5;241m.\u001b[39mDATA_CONTEXT_GET_BATCH_LIST,\n\u001b[1;32m   (...)\u001b[0m\n\u001b[0;32m   2559\u001b[0m     \u001b[38;5;241m*\u001b[39m\u001b[38;5;241m*\u001b[39mkwargs: Optional[\u001b[38;5;28mdict\u001b[39m],\n\u001b[0;32m   2560\u001b[0m ) \u001b[38;5;241m-\u001b[39m\u001b[38;5;241m>\u001b[39m List[Batch]:\n\u001b[0;32m   2561\u001b[0m \u001b[38;5;250m    \u001b[39m\u001b[38;5;124;03m\"\"\"Get the list of zero or more batches, based on a variety of flexible input types.\u001b[39;00m\n\u001b[0;32m   2562\u001b[0m \n\u001b[0;32m   2563\u001b[0m \u001b[38;5;124;03m    `get_batch_list` is the main user-facing API for getting batches.\u001b[39;00m\n\u001b[1;32m   (...)\u001b[0m\n\u001b[0;32m   2607\u001b[0m \n\u001b[0;32m   2608\u001b[0m \u001b[38;5;124;03m    \"\"\"\u001b[39;00m\n\u001b[1;32m-> 2609\u001b[0m     \u001b[38;5;28;01mreturn\u001b[39;00m \u001b[38;5;28mself\u001b[39m\u001b[38;5;241m.\u001b[39m_get_batch_list(\n\u001b[0;32m   2610\u001b[0m         datasource_name\u001b[38;5;241m=\u001b[39mdatasource_name,\n\u001b[0;32m   2611\u001b[0m         data_connector_name\u001b[38;5;241m=\u001b[39mdata_connector_name,\n\u001b[0;32m   2612\u001b[0m         data_asset_name\u001b[38;5;241m=\u001b[39mdata_asset_name,\n\u001b[0;32m   2613\u001b[0m         batch_request\u001b[38;5;241m=\u001b[39mbatch_request,\n\u001b[0;32m   2614\u001b[0m         batch_data\u001b[38;5;241m=\u001b[39mbatch_data,\n\u001b[0;32m   2615\u001b[0m         data_connector_query\u001b[38;5;241m=\u001b[39mdata_connector_query,\n\u001b[0;32m   2616\u001b[0m         batch_identifiers\u001b[38;5;241m=\u001b[39mbatch_identifiers,\n\u001b[0;32m   2617\u001b[0m         limit\u001b[38;5;241m=\u001b[39mlimit,\n\u001b[0;32m   2618\u001b[0m         index\u001b[38;5;241m=\u001b[39mindex,\n\u001b[0;32m   2619\u001b[0m         custom_filter_function\u001b[38;5;241m=\u001b[39mcustom_filter_function,\n\u001b[0;32m   2620\u001b[0m         sampling_method\u001b[38;5;241m=\u001b[39msampling_method,\n\u001b[0;32m   2621\u001b[0m         sampling_kwargs\u001b[38;5;241m=\u001b[39msampling_kwargs,\n\u001b[0;32m   2622\u001b[0m         splitter_method\u001b[38;5;241m=\u001b[39msplitter_method,\n\u001b[0;32m   2623\u001b[0m         splitter_kwargs\u001b[38;5;241m=\u001b[39msplitter_kwargs,\n\u001b[0;32m   2624\u001b[0m         runtime_parameters\u001b[38;5;241m=\u001b[39mruntime_parameters,\n\u001b[0;32m   2625\u001b[0m         query\u001b[38;5;241m=\u001b[39mquery,\n\u001b[0;32m   2626\u001b[0m         path\u001b[38;5;241m=\u001b[39mpath,\n\u001b[0;32m   2627\u001b[0m         batch_filter_parameters\u001b[38;5;241m=\u001b[39mbatch_filter_parameters,\n\u001b[0;32m   2628\u001b[0m         batch_spec_passthrough\u001b[38;5;241m=\u001b[39mbatch_spec_passthrough,\n\u001b[0;32m   2629\u001b[0m         \u001b[38;5;241m*\u001b[39m\u001b[38;5;241m*\u001b[39mkwargs,\n\u001b[0;32m   2630\u001b[0m     )\n",
      "File \u001b[1;32m~\\PycharmProjects\\my_gx_tutorial\\venv\\lib\\site-packages\\great_expectations\\data_context\\data_context\\abstract_data_context.py:2686\u001b[0m, in \u001b[0;36mAbstractDataContext._get_batch_list\u001b[1;34m(self, datasource_name, data_connector_name, data_asset_name, batch_request, batch_data, data_connector_query, batch_identifiers, limit, index, custom_filter_function, sampling_method, sampling_kwargs, splitter_method, splitter_kwargs, runtime_parameters, query, path, batch_filter_parameters, batch_spec_passthrough, **kwargs)\u001b[0m\n\u001b[0;32m   2680\u001b[0m \u001b[38;5;28;01melse\u001b[39;00m:\n\u001b[0;32m   2681\u001b[0m     \u001b[38;5;28;01mraise\u001b[39;00m gx_exceptions\u001b[38;5;241m.\u001b[39mDatasourceError(\n\u001b[0;32m   2682\u001b[0m         datasource_name,\n\u001b[0;32m   2683\u001b[0m         \u001b[38;5;124m\"\u001b[39m\u001b[38;5;124mThe given datasource could not be retrieved from the DataContext; \u001b[39m\u001b[38;5;124m\"\u001b[39m\n\u001b[0;32m   2684\u001b[0m         \u001b[38;5;124m\"\u001b[39m\u001b[38;5;124mplease confirm that your configuration is accurate.\u001b[39m\u001b[38;5;124m\"\u001b[39m,\n\u001b[0;32m   2685\u001b[0m     )\n\u001b[1;32m-> 2686\u001b[0m \u001b[38;5;28;01mreturn\u001b[39;00m \u001b[43mdatasource\u001b[49m\u001b[38;5;241;43m.\u001b[39;49m\u001b[43mget_batch_list_from_batch_request\u001b[49m\u001b[43m(\u001b[49m\u001b[43mbatch_request\u001b[49m\u001b[38;5;241;43m=\u001b[39;49m\u001b[43mbatch_request\u001b[49m\u001b[43m)\u001b[49m\n",
      "File \u001b[1;32m~\\PycharmProjects\\my_gx_tutorial\\venv\\lib\\site-packages\\great_expectations\\datasource\\new_datasource.py:169\u001b[0m, in \u001b[0;36mBaseDatasource.get_batch_list_from_batch_request\u001b[1;34m(self, batch_request)\u001b[0m\n\u001b[0;32m    161\u001b[0m \u001b[38;5;28mself\u001b[39m\u001b[38;5;241m.\u001b[39m_validate_batch_request(batch_request\u001b[38;5;241m=\u001b[39mbatch_request)\n\u001b[0;32m    163\u001b[0m data_connector: DataConnector \u001b[38;5;241m=\u001b[39m \u001b[38;5;28mself\u001b[39m\u001b[38;5;241m.\u001b[39mdata_connectors[\n\u001b[0;32m    164\u001b[0m     batch_request\u001b[38;5;241m.\u001b[39mdata_connector_name\n\u001b[0;32m    165\u001b[0m ]\n\u001b[0;32m    167\u001b[0m batch_definition_list: List[\n\u001b[0;32m    168\u001b[0m     BatchDefinition\n\u001b[1;32m--> 169\u001b[0m ] \u001b[38;5;241m=\u001b[39m \u001b[43mdata_connector\u001b[49m\u001b[38;5;241;43m.\u001b[39;49m\u001b[43mget_batch_definition_list_from_batch_request\u001b[49m\u001b[43m(\u001b[49m\n\u001b[0;32m    170\u001b[0m \u001b[43m    \u001b[49m\u001b[43mbatch_request\u001b[49m\u001b[38;5;241;43m=\u001b[39;49m\u001b[43mbatch_request\u001b[49m\n\u001b[0;32m    171\u001b[0m \u001b[43m\u001b[49m\u001b[43m)\u001b[49m\n\u001b[0;32m    173\u001b[0m \u001b[38;5;28;01mif\u001b[39;00m \u001b[38;5;28misinstance\u001b[39m(batch_request, RuntimeBatchRequest):\n\u001b[0;32m    174\u001b[0m     \u001b[38;5;66;03m# This is a runtime batch_request\u001b[39;00m\n\u001b[0;32m    176\u001b[0m     \u001b[38;5;28;01mif\u001b[39;00m \u001b[38;5;28mlen\u001b[39m(batch_definition_list) \u001b[38;5;241m!=\u001b[39m \u001b[38;5;241m1\u001b[39m:\n",
      "File \u001b[1;32m~\\PycharmProjects\\my_gx_tutorial\\venv\\lib\\site-packages\\great_expectations\\datasource\\data_connector\\configured_asset_sql_data_connector.py:190\u001b[0m, in \u001b[0;36mConfiguredAssetSqlDataConnector.get_batch_definition_list_from_batch_request\u001b[1;34m(self, batch_request)\u001b[0m\n\u001b[0;32m    186\u001b[0m     sub_cache \u001b[38;5;241m=\u001b[39m \u001b[38;5;28mself\u001b[39m\u001b[38;5;241m.\u001b[39m_get_data_reference_list_from_cache_by_data_asset_name(\n\u001b[0;32m    187\u001b[0m         data_asset_name\u001b[38;5;241m=\u001b[39mbatch_request\u001b[38;5;241m.\u001b[39mdata_asset_name\n\u001b[0;32m    188\u001b[0m     )\n\u001b[0;32m    189\u001b[0m \u001b[38;5;28;01mexcept\u001b[39;00m \u001b[38;5;167;01mKeyError\u001b[39;00m:\n\u001b[1;32m--> 190\u001b[0m     \u001b[38;5;28;01mraise\u001b[39;00m \u001b[38;5;167;01mKeyError\u001b[39;00m(\n\u001b[0;32m    191\u001b[0m         \u001b[38;5;124mf\u001b[39m\u001b[38;5;124m\"\u001b[39m\u001b[38;5;124mdata_asset_name \u001b[39m\u001b[38;5;132;01m{\u001b[39;00mbatch_request\u001b[38;5;241m.\u001b[39mdata_asset_name\u001b[38;5;132;01m}\u001b[39;00m\u001b[38;5;124m is not recognized.\u001b[39m\u001b[38;5;124m\"\u001b[39m\n\u001b[0;32m    192\u001b[0m     )\n\u001b[0;32m    194\u001b[0m \u001b[38;5;28;01mfor\u001b[39;00m batch_identifiers \u001b[38;5;129;01min\u001b[39;00m sub_cache:\n\u001b[0;32m    195\u001b[0m     batch_definition \u001b[38;5;241m=\u001b[39m BatchDefinition(\n\u001b[0;32m    196\u001b[0m         datasource_name\u001b[38;5;241m=\u001b[39m\u001b[38;5;28mself\u001b[39m\u001b[38;5;241m.\u001b[39mdatasource_name,\n\u001b[0;32m    197\u001b[0m         data_connector_name\u001b[38;5;241m=\u001b[39m\u001b[38;5;28mself\u001b[39m\u001b[38;5;241m.\u001b[39mname,\n\u001b[1;32m   (...)\u001b[0m\n\u001b[0;32m    200\u001b[0m         batch_spec_passthrough\u001b[38;5;241m=\u001b[39mbatch_request\u001b[38;5;241m.\u001b[39mbatch_spec_passthrough,\n\u001b[0;32m    201\u001b[0m     )\n",
      "\u001b[1;31mKeyError\u001b[0m: 'data_asset_name count_providers_by_state is not recognized.'"
     ]
    }
   ],
   "source": [
    "context.run_checkpoint(checkpoint_name=my_checkpoint_name)\n",
    "context.open_data_docs()"
   ]
  },
  {
   "cell_type": "code",
   "execution_count": null,
   "id": "b05167db",
   "metadata": {},
   "outputs": [],
   "source": []
  }
 ],
 "metadata": {
  "kernelspec": {
   "display_name": "Python 3 (ipykernel)",
   "language": "python",
   "name": "python3"
  },
  "language_info": {
   "codemirror_mode": {
    "name": "ipython",
    "version": 3
   },
   "file_extension": ".py",
   "mimetype": "text/x-python",
   "name": "python",
   "nbconvert_exporter": "python",
   "pygments_lexer": "ipython3",
   "version": "3.10.8"
  }
 },
 "nbformat": 4,
 "nbformat_minor": 5
}
