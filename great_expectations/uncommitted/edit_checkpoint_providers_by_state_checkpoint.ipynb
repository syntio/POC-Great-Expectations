{
 "cells": [
  {
   "cell_type": "markdown",
   "id": "64d465f2",
   "metadata": {},
   "source": [
    "# Create Your Checkpoint\n",
    "Use this notebook to configure a new Checkpoint and add it to your project:\n",
    "\n",
    "**Checkpoint Name**: `providers_by_state_checkpoint`"
   ]
  },
  {
   "cell_type": "code",
   "execution_count": 1,
   "id": "fcc3034e",
   "metadata": {},
   "outputs": [],
   "source": [
    "from ruamel.yaml import YAML\n",
    "import great_expectations as gx\n",
    "from pprint import pprint\n",
    "\n",
    "yaml = YAML()\n",
    "context = gx.get_context()"
   ]
  },
  {
   "cell_type": "markdown",
   "id": "590668bc",
   "metadata": {},
   "source": [
    "# Create a Checkpoint Configuration\n",
    "\n",
    "**If you are new to Great Expectations or the Checkpoint feature**, you should start with SimpleCheckpoint because it includes default configurations like a default list of post validation actions.\n",
    "\n",
    "In the cell below we have created a sample Checkpoint configuration using **your configuration** and **SimpleCheckpoint** to run a single validation of a single Expectation Suite against a single Batch of data.\n",
    "\n",
    "To keep it simple, we are just choosing the first available instance of each of the following items you have configured in your Data Context:\n",
    "* Datasource\n",
    "* DataConnector\n",
    "* DataAsset\n",
    "* Partition\n",
    "* Expectation Suite\n",
    "\n",
    "Of course this is purely an example, you may edit this to your heart's content.\n",
    "\n",
    "**My configuration is not so simple - are there more advanced options?**\n",
    "\n",
    "Glad you asked! Checkpoints are very versatile. For example, you can validate many Batches in a single Checkpoint, validate Batches against different Expectation Suites or against many Expectation Suites, control the specific post-validation actions based on Expectation Suite / Batch / results of validation among other features. Check out our documentation on Checkpoints for more details and for instructions on how to implement other more advanced features including using the **Checkpoint** class:\n",
    "- https://docs.greatexpectations.io/docs/reference/checkpoints_and_actions\n",
    "- https://docs.greatexpectations.io/docs/guides/validation/checkpoints/how_to_create_a_new_checkpoint\n",
    "- https://docs.greatexpectations.io/docs/guides/validation/checkpoints/how_to_configure_a_new_checkpoint_using_test_yaml_config"
   ]
  },
  {
   "cell_type": "code",
   "execution_count": 3,
   "id": "453373cd",
   "metadata": {},
   "outputs": [
    {
     "name": "stdout",
     "output_type": "stream",
     "text": [
      "\n",
      "name: providers_by_state_checkpoint\n",
      "config_version: 1.0\n",
      "class_name: Checkpoint\n",
      "run_name_template: \"%Y%m%d-%H%M%S-my-run-name-template\"\n",
      "validations:\n",
      "  - batch_request:\n",
      "      datasource_name: my_postgres_db\n",
      "      data_connector_name: default_inferred_data_connector_name\n",
      "      data_asset_name: count_providers_by_state\n",
      "      data_connector_query:\n",
      "        index: -1\n",
      "    expectation_suite_name: count_providers_by_state.critical\n",
      "action_list:\n",
      "    - name: store_validation_result\n",
      "      action:\n",
      "        class_name: StoreValidationResultAction\n",
      "    - name: store_evaluation_params\n",
      "      action:\n",
      "        class_name: StoreEvaluationParametersAction\n",
      "    - name: update_data_docs\n",
      "      action:\n",
      "        class_name: UpdateDataDocsAction\n",
      "\n"
     ]
    }
   ],
   "source": [
    "my_checkpoint_name = \"providers_by_state_checkpoint\" # This was populated from your CLI command.\n",
    "\n",
    "yaml_config = f\"\"\"\n",
    "name: {my_checkpoint_name}\n",
    "config_version: 1.0\n",
    "class_name: Checkpoint\n",
    "run_name_template: \"%Y%m%d-%H%M%S-my-run-name-template\"\n",
    "validations:\n",
    "  - batch_request:\n",
    "      datasource_name: my_postgres_db\n",
    "      data_connector_name: default_inferred_data_connector_name\n",
    "      data_asset_name: count_providers_by_state\n",
    "      data_connector_query:\n",
    "        index: -1\n",
    "    expectation_suite_name: count_providers_by_state.critical\n",
    "action_list:\n",
    "    - name: store_validation_result\n",
    "      action:\n",
    "        class_name: StoreValidationResultAction\n",
    "    - name: store_evaluation_params\n",
    "      action:\n",
    "        class_name: StoreEvaluationParametersAction\n",
    "    - name: update_data_docs\n",
    "      action:\n",
    "        class_name: UpdateDataDocsAction\n",
    "\"\"\"\n",
    "print(yaml_config)"
   ]
  },
  {
   "cell_type": "markdown",
   "id": "229628f5",
   "metadata": {},
   "source": [
    "# Customize Your Configuration\n",
    "The following cells show examples for listing your current configuration. You can replace values in the sample configuration with these values to customize your Checkpoint."
   ]
  },
  {
   "cell_type": "code",
   "execution_count": 4,
   "id": "7becef1d",
   "metadata": {},
   "outputs": [
    {
     "name": "stdout",
     "output_type": "stream",
     "text": [
      "{'input_files': {'default_inferred_data_connector_name': ['state_abbreviations',\n",
      "                                                          'npi_small']},\n",
      " 'my_postgres_db': {'default_inferred_data_connector_name': ['npi_small',\n",
      "                                                             'state_abbreviations',\n",
      "                                                             'npi_with_state',\n",
      "                                                             'prod_count_providers_by_state',\n",
      "                                                             'stg_npi',\n",
      "                                                             'stg_state_abbreviations']}}\n"
     ]
    }
   ],
   "source": [
    "# Run this cell to print out the names of your Datasources, Data Connectors and Data Assets\n",
    "pprint(context.get_available_data_asset_names())"
   ]
  },
  {
   "cell_type": "code",
   "execution_count": 5,
   "id": "617e0958",
   "metadata": {},
   "outputs": [
    {
     "data": {
      "text/plain": [
       "['count_providers_by_state.critical',\n",
       " 'npi_small_db_table.critical',\n",
       " 'npi_small_file.critical']"
      ]
     },
     "execution_count": 5,
     "metadata": {},
     "output_type": "execute_result"
    }
   ],
   "source": [
    "context.list_expectation_suite_names()"
   ]
  },
  {
   "cell_type": "markdown",
   "id": "c0bb15a3",
   "metadata": {},
   "source": [
    "# Test Your Checkpoint Configuration\n",
    "Here we will test your Checkpoint configuration to make sure it is valid.\n",
    "\n",
    "This `test_yaml_config()` function is meant to enable fast dev loops. If your configuration is correct, this cell will show a message that you successfully instantiated a Checkpoint. You can continually edit your Checkpoint config yaml and re-run the cell to check until the new config is valid.\n",
    "\n",
    "If you instead wish to use python instead of yaml to configure your Checkpoint, you can use `context.add_checkpoint()` and specify all the required parameters."
   ]
  },
  {
   "cell_type": "code",
   "execution_count": 6,
   "id": "1f484314",
   "metadata": {},
   "outputs": [
    {
     "name": "stdout",
     "output_type": "stream",
     "text": [
      "Attempting to instantiate class from config...\n",
      "\tInstantiating as a Checkpoint, since class_name is Checkpoint\n",
      "\tSuccessfully instantiated Checkpoint\n",
      "\n",
      "\n",
      "Checkpoint class name: Checkpoint\n"
     ]
    }
   ],
   "source": [
    "my_checkpoint = context.test_yaml_config(yaml_config=yaml_config)"
   ]
  },
  {
   "cell_type": "markdown",
   "id": "717508c3",
   "metadata": {},
   "source": [
    "# Review Your Checkpoint\n",
    "\n",
    "You can run the following cell to print out the full yaml configuration. For example, if you used **SimpleCheckpoint**  this will show you the default action list."
   ]
  },
  {
   "cell_type": "code",
   "execution_count": 7,
   "id": "c322405b",
   "metadata": {},
   "outputs": [
    {
     "name": "stdout",
     "output_type": "stream",
     "text": [
      "name: providers_by_state_checkpoint\n",
      "config_version: 1.0\n",
      "template_name:\n",
      "module_name: great_expectations.checkpoint\n",
      "class_name: Checkpoint\n",
      "run_name_template: '%Y%m%d-%H%M%S-my-run-name-template'\n",
      "expectation_suite_name:\n",
      "batch_request: {}\n",
      "action_list:\n",
      "  - name: store_validation_result\n",
      "    action:\n",
      "      class_name: StoreValidationResultAction\n",
      "  - name: store_evaluation_params\n",
      "    action:\n",
      "      class_name: StoreEvaluationParametersAction\n",
      "  - name: update_data_docs\n",
      "    action:\n",
      "      class_name: UpdateDataDocsAction\n",
      "evaluation_parameters: {}\n",
      "runtime_configuration: {}\n",
      "validations:\n",
      "  - batch_request:\n",
      "      datasource_name: my_postgres_db\n",
      "      data_connector_name: default_inferred_data_connector_name\n",
      "      data_asset_name: count_providers_by_state\n",
      "      data_connector_query:\n",
      "        index: -1\n",
      "    expectation_suite_name: count_providers_by_state.critical\n",
      "profilers: []\n",
      "ge_cloud_id:\n",
      "expectation_suite_ge_cloud_id:\n",
      "\n"
     ]
    }
   ],
   "source": [
    "print(my_checkpoint.get_config(mode=\"yaml\"))"
   ]
  },
  {
   "cell_type": "markdown",
   "id": "8e07c115",
   "metadata": {},
   "source": [
    "# Add Your Checkpoint\n",
    "\n",
    "Run the following cell to save this Checkpoint to your Checkpoint Store."
   ]
  },
  {
   "cell_type": "code",
   "execution_count": 8,
   "id": "cf7bc5a0",
   "metadata": {},
   "outputs": [
    {
     "data": {
      "text/plain": [
       "{\n",
       "  \"action_list\": [\n",
       "    {\n",
       "      \"name\": \"store_validation_result\",\n",
       "      \"action\": {\n",
       "        \"class_name\": \"StoreValidationResultAction\"\n",
       "      }\n",
       "    },\n",
       "    {\n",
       "      \"name\": \"store_evaluation_params\",\n",
       "      \"action\": {\n",
       "        \"class_name\": \"StoreEvaluationParametersAction\"\n",
       "      }\n",
       "    },\n",
       "    {\n",
       "      \"name\": \"update_data_docs\",\n",
       "      \"action\": {\n",
       "        \"class_name\": \"UpdateDataDocsAction\"\n",
       "      }\n",
       "    }\n",
       "  ],\n",
       "  \"batch_request\": {},\n",
       "  \"class_name\": \"Checkpoint\",\n",
       "  \"config_version\": 1.0,\n",
       "  \"evaluation_parameters\": {},\n",
       "  \"module_name\": \"great_expectations.checkpoint\",\n",
       "  \"name\": \"providers_by_state_checkpoint\",\n",
       "  \"profilers\": [],\n",
       "  \"run_name_template\": \"%Y%m%d-%H%M%S-my-run-name-template\",\n",
       "  \"runtime_configuration\": {},\n",
       "  \"validations\": [\n",
       "    {\n",
       "      \"batch_request\": {\n",
       "        \"datasource_name\": \"my_postgres_db\",\n",
       "        \"data_connector_name\": \"default_inferred_data_connector_name\",\n",
       "        \"data_asset_name\": \"count_providers_by_state\",\n",
       "        \"data_connector_query\": {\n",
       "          \"index\": -1\n",
       "        }\n",
       "      },\n",
       "      \"expectation_suite_name\": \"count_providers_by_state.critical\"\n",
       "    }\n",
       "  ]\n",
       "}"
      ]
     },
     "execution_count": 8,
     "metadata": {},
     "output_type": "execute_result"
    }
   ],
   "source": [
    "context.add_checkpoint(**yaml.load(yaml_config))"
   ]
  },
  {
   "cell_type": "markdown",
   "id": "b977e71e",
   "metadata": {},
   "source": [
    "# Run Your Checkpoint & Open Data Docs(Optional)\n",
    "\n",
    "You may wish to run the Checkpoint now and review its output in Data Docs. If so uncomment and run the following cell."
   ]
  },
  {
   "cell_type": "code",
   "execution_count": null,
   "id": "764ecd5f",
   "metadata": {},
   "outputs": [],
   "source": [
    "# context.run_checkpoint(checkpoint_name=my_checkpoint_name)\n",
    "# context.open_data_docs()"
   ]
  }
 ],
 "metadata": {
  "kernelspec": {
   "display_name": "Python 3 (ipykernel)",
   "language": "python",
   "name": "python3"
  },
  "language_info": {
   "codemirror_mode": {
    "name": "ipython",
    "version": 3
   },
   "file_extension": ".py",
   "mimetype": "text/x-python",
   "name": "python",
   "nbconvert_exporter": "python",
   "pygments_lexer": "ipython3",
   "version": "3.10.8"
  }
 },
 "nbformat": 4,
 "nbformat_minor": 5
}
