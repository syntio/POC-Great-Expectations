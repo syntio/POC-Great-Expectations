{
 "cells": [
  {
   "cell_type": "markdown",
   "id": "a141278b",
   "metadata": {},
   "source": [
    "# Edit Your Expectation Suite\n",
    "Use this notebook to recreate and modify your expectation suite:\n",
    "\n",
    "**Expectation Suite Name**: `npi_small_db_table.critical`\n"
   ]
  },
  {
   "cell_type": "code",
   "execution_count": null,
   "id": "a3bdcaf6",
   "metadata": {},
   "outputs": [],
   "source": [
    "import datetime\n",
    "\n",
    "import pandas as pd\n",
    "\n",
    "import great_expectations as gx\n",
    "import great_expectations.jupyter_ux\n",
    "from great_expectations.core.expectation_configuration import ExpectationConfiguration\n",
    "from great_expectations.data_context.types.resource_identifiers import ExpectationSuiteIdentifier\n",
    "from great_expectations.exceptions import DataContextError\n",
    "\n",
    "context = gx.get_context()\n",
    "\n",
    "\n",
    "# Feel free to change the name of your suite here. Renaming this will not remove the other one.\n",
    "expectation_suite_name = \"npi_small_db_table.critical\"\n",
    "try:\n",
    "    suite = context.get_expectation_suite(expectation_suite_name=expectation_suite_name)\n",
    "    print(f'Loaded ExpectationSuite \"{suite.expectation_suite_name}\" containing {len(suite.expectations)} expectations.')\n",
    "except DataContextError:\n",
    "    suite = context.add_expectation_suite(expectation_suite_name=expectation_suite_name)\n",
    "    print(f'Created ExpectationSuite \"{suite.expectation_suite_name}\".')"
   ]
  },
  {
   "cell_type": "markdown",
   "id": "51bee681",
   "metadata": {},
   "source": [
    "## Create & Edit Expectations\n",
    "\n",
    "\n",
    "You are adding Expectation configurations to the suite. Since you selected manual mode, there is no sample batch of data and no validation happens during this process. See our documentation for more info and examples: **[How to create a new Expectation Suite without a sample batch](https://docs.greatexpectations.io/docs/guides/expectations/how_to_create_and_edit_expectations_based_on_domain_knowledge_without_inspecting_data_directly)**.\n",
    "\n",
    "Note that if you do use interactive mode you may specify a sample batch of data to use when creating your Expectation Suite. You can then use a `validator` to get immediate feedback on your Expectations against your specified sample batch.\n",
    "\n",
    "\n",
    "You can see all the available expectations in the **[expectation gallery](https://greatexpectations.io/expectations)**."
   ]
  },
  {
   "cell_type": "markdown",
   "id": "710937ba",
   "metadata": {},
   "source": [
    "### Table Expectation(s)"
   ]
  },
  {
   "cell_type": "code",
   "execution_count": null,
   "id": "502505ae",
   "metadata": {},
   "outputs": [],
   "source": [
    "\n",
    "expectation_configuration = ExpectationConfiguration(**{\n",
    "  \"meta\": {},\n",
    "  \"kwargs\": {\n",
    "    \"max_value\": 1000000,\n",
    "    \"min_value\": 1\n",
    "  },\n",
    "  \"expectation_type\": \"expect_table_row_count_to_be_between\"\n",
    "})\n",
    "suite.add_expectation(expectation_configuration=expectation_configuration)"
   ]
  },
  {
   "cell_type": "code",
   "execution_count": null,
   "id": "aa588a9b",
   "metadata": {},
   "outputs": [],
   "source": [
    "\n",
    "expectation_configuration = ExpectationConfiguration(**{\n",
    "  \"meta\": {},\n",
    "  \"kwargs\": {\n",
    "    \"value\": 7\n",
    "  },\n",
    "  \"expectation_type\": \"expect_table_column_count_to_equal\"\n",
    "})\n",
    "suite.add_expectation(expectation_configuration=expectation_configuration)"
   ]
  },
  {
   "cell_type": "code",
   "execution_count": null,
   "id": "700fc411",
   "metadata": {},
   "outputs": [],
   "source": [
    "\n",
    "expectation_configuration = ExpectationConfiguration(**{\n",
    "  \"meta\": {},\n",
    "  \"kwargs\": {\n",
    "    \"column_list\": [\n",
    "      \"npi\",\n",
    "      \"entity_type_code\",\n",
    "      \"organization_name\",\n",
    "      \"last_name\",\n",
    "      \"first_name\",\n",
    "      \"state\",\n",
    "      \"taxonomy_code\"\n",
    "    ]\n",
    "  },\n",
    "  \"expectation_type\": \"expect_table_columns_to_match_ordered_list\"\n",
    "})\n",
    "suite.add_expectation(expectation_configuration=expectation_configuration)"
   ]
  },
  {
   "cell_type": "markdown",
   "id": "1f805222",
   "metadata": {},
   "source": [
    "### Column Expectation(s)"
   ]
  },
  {
   "cell_type": "markdown",
   "id": "9c72a70f",
   "metadata": {},
   "source": [
    "No column level expectations are in this suite. Feel free to add some here.\n"
   ]
  },
  {
   "cell_type": "markdown",
   "id": "0d1e6f78",
   "metadata": {},
   "source": [
    "## Review & Save Your Expectations\n",
    "\n",
    "Let's save the expectation suite as a JSON file in the `great_expectations/expectations` directory of your project.\n",
    "\n",
    "Let's now rebuild your Data Docs, which helps you communicate about your data with both machines and humans."
   ]
  },
  {
   "cell_type": "code",
   "execution_count": null,
   "id": "6597468b",
   "metadata": {},
   "outputs": [],
   "source": [
    "print(context.get_expectation_suite(expectation_suite_name=expectation_suite_name))\n",
    "context.add_or_update_expectation_suite(expectation_suite=suite)\n",
    "\n",
    "suite_identifier = ExpectationSuiteIdentifier(expectation_suite_name=expectation_suite_name)\n",
    "context.build_data_docs(resource_identifiers=[suite_identifier])\n",
    "context.open_data_docs(resource_identifier=suite_identifier)"
   ]
  }
 ],
 "metadata": {},
 "nbformat": 4,
 "nbformat_minor": 5
}
