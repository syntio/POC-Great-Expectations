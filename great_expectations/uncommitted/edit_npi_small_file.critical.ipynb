{
 "cells": [
  {
   "cell_type": "markdown",
   "id": "ae84f944",
   "metadata": {},
   "source": [
    "# Edit Your Expectation Suite\n",
    "Use this notebook to recreate and modify your expectation suite:\n",
    "\n",
    "**Expectation Suite Name**: `npi_small_file.critical`\n"
   ]
  },
  {
   "cell_type": "code",
   "execution_count": 1,
   "id": "ae34d5d8",
   "metadata": {},
   "outputs": [
    {
     "name": "stdout",
     "output_type": "stream",
     "text": [
      "2023-04-24T14:02:18+0200 - INFO - Great Expectations logging enabled at 20 level by JupyterUX module.\n",
      "2023-04-24T14:02:18+0200 - INFO - FileDataContext loading fluent config\n",
      "2023-04-24T14:02:18+0200 - INFO - Loading 'datasources' ->\n",
      "[]\n",
      "2023-04-24T14:02:18+0200 - INFO - Loaded 'datasources' ->\n",
      "[]\n",
      "2023-04-24T14:02:19+0200 - WARNING - Cannot initialize datasource my_postgres_db: Cannot initialize datasource my_postgres_db, error: Can't load plugin: sqlalchemy.dialects:postgres\n",
      "Loaded ExpectationSuite \"npi_small_file.critical\" containing 0 expectations.\n"
     ]
    }
   ],
   "source": [
    "import datetime\n",
    "\n",
    "import pandas as pd\n",
    "\n",
    "import great_expectations as gx\n",
    "import great_expectations.jupyter_ux\n",
    "from great_expectations.core.expectation_configuration import ExpectationConfiguration\n",
    "from great_expectations.data_context.types.resource_identifiers import ExpectationSuiteIdentifier\n",
    "from great_expectations.exceptions import DataContextError\n",
    "\n",
    "context = gx.get_context()\n",
    "\n",
    "\n",
    "# Feel free to change the name of your suite here. Renaming this will not remove the other one.\n",
    "expectation_suite_name = \"npi_small_file.critical\"\n",
    "try:\n",
    "    suite = context.get_expectation_suite(expectation_suite_name=expectation_suite_name)\n",
    "    print(f'Loaded ExpectationSuite \"{suite.expectation_suite_name}\" containing {len(suite.expectations)} expectations.')\n",
    "except DataContextError:\n",
    "    suite = context.add_expectation_suite(expectation_suite_name=expectation_suite_name)\n",
    "    print(f'Created ExpectationSuite \"{suite.expectation_suite_name}\".')"
   ]
  },
  {
   "cell_type": "markdown",
   "id": "feb1eeca",
   "metadata": {},
   "source": [
    "## Create & Edit Expectations\n",
    "\n",
    "\n",
    "You are adding Expectation configurations to the suite. Since you selected manual mode, there is no sample batch of data and no validation happens during this process. See our documentation for more info and examples: **[How to create a new Expectation Suite without a sample batch](https://docs.greatexpectations.io/docs/guides/expectations/how_to_create_and_edit_expectations_based_on_domain_knowledge_without_inspecting_data_directly)**.\n",
    "\n",
    "Note that if you do use interactive mode you may specify a sample batch of data to use when creating your Expectation Suite. You can then use a `validator` to get immediate feedback on your Expectations against your specified sample batch.\n",
    "\n",
    "\n",
    "You can see all the available expectations in the **[expectation gallery](https://greatexpectations.io/expectations)**."
   ]
  },
  {
   "cell_type": "markdown",
   "id": "2bd3ddb6",
   "metadata": {},
   "source": [
    "### Table Expectation(s)"
   ]
  },
  {
   "cell_type": "markdown",
   "id": "0fa1052d",
   "metadata": {},
   "source": [
    "No table level expectations are in this suite. Feel free to add some here.\n"
   ]
  },
  {
   "cell_type": "code",
   "execution_count": 7,
   "id": "494cc819",
   "metadata": {},
   "outputs": [
    {
     "data": {
      "text/plain": [
       "{\"expectation_type\": \"expect_column_values_to_not_be_null\", \"meta\": {}, \"kwargs\": {\"column\": \"NPI\"}}"
      ]
     },
     "execution_count": 7,
     "metadata": {},
     "output_type": "execute_result"
    }
   ],
   "source": [
    "# Create an Expectation\n",
    "expectation_configuration = ExpectationConfiguration(\n",
    "   # Name of expectation type being added\n",
    "   expectation_type=\"expect_table_row_count_to_be_between\",\n",
    "   # These are the arguments of the expectation\n",
    "   # The keys allowed in the dictionary are Parameters and\n",
    "   # Keyword Arguments of this Expectation Type\n",
    "   kwargs={\n",
    "       \"min_value\": 1,\n",
    "       \"max_value\": 1000000\n",
    "   },\n",
    "   # This is how you can optionally add a comment about this expectation.\n",
    "   # It will be rendered in Data Docs.\n",
    "   meta={}\n",
    ")\n",
    "# Add the Expectation to the suite\n",
    "suite.add_expectation(expectation_configuration=expectation_configuration)\n",
    "\n",
    "expectation_configuration = ExpectationConfiguration(\n",
    "   # Name of expectation type being added\n",
    "   expectation_type=\"expect_table_column_count_to_equal\",\n",
    "   # These are the arguments of the expectation\n",
    "   # The keys allowed in the dictionary are Parameters and\n",
    "   # Keyword Arguments of this Expectation Type\n",
    "   kwargs={\n",
    "       \"value\": 7\n",
    "   },\n",
    "   # This is how you can optionally add a comment about this expectation.\n",
    "   # It will be rendered in Data Docs.\n",
    "   meta={}\n",
    ")\n",
    "# Add the Expectation to the suite\n",
    "suite.add_expectation(expectation_configuration=expectation_configuration)\n",
    "\n",
    "expectation_configuration = ExpectationConfiguration(\n",
    "   # Name of expectation type being added\n",
    "   expectation_type=\"expect_table_columns_to_match_ordered_list\",\n",
    "   # These are the arguments of the expectation\n",
    "   # The keys allowed in the dictionary are Parameters and\n",
    "   # Keyword Arguments of this Expectation Type\n",
    "   kwargs={\n",
    "       \"column_list\": [\"NPI\", \"Entity_Type_Code\", \"Organization_Name\", \"Last_Name\", \"First_Name\", \"State\", \"Taxonomy_Code\"]\n",
    "   },\n",
    "   # This is how you can optionally add a comment about this expectation.\n",
    "   # It will be rendered in Data Docs.\n",
    "   meta={}\n",
    ")\n",
    "# Add the Expectation to the suite\n",
    "suite.add_expectation(expectation_configuration=expectation_configuration)\n",
    "\n",
    "expectation_configuration = ExpectationConfiguration(\n",
    "   # Name of expectation type being added\n",
    "   expectation_type=\"expect_column_values_to_not_be_null\",\n",
    "   # These are the arguments of the expectation\n",
    "   # The keys allowed in the dictionary are Parameters and\n",
    "   # Keyword Arguments of this Expectation Type\n",
    "   kwargs={\n",
    "       \"column\": \"State\",\n",
    "       \"mostly\": 0.05\n",
    "   },\n",
    "   # This is how you can optionally add a comment about this expectation.\n",
    "   # It will be rendered in Data Docs.\n",
    "   meta={}\n",
    ")\n",
    "# Add the Expectation to the suite\n",
    "suite.add_expectation(expectation_configuration=expectation_configuration)\n",
    "\n",
    "expectation_configuration = ExpectationConfiguration(\n",
    "   # Name of expectation type being added\n",
    "   expectation_type=\"expect_column_values_to_be_in_set\",\n",
    "   # These are the arguments of the expectation\n",
    "   # The keys allowed in the dictionary are Parameters and\n",
    "   # Keyword Arguments of this Expectation Type\n",
    "   kwargs={\n",
    "       \"column\": \"State\",\n",
    "       \"mostly\": 0.05,\n",
    "       \"value_set\": [\"AE\", \"AK\", \"AL\", \"AP\", \"AR\", \"AS\", \"AZ\", \"CA\", \"CO\", \"CT\", \"DC\", \"DE\", \"FL\", \"GA\", \"GU\", \"HI\", \"IA\", \"ID\", \"IL\", \"IN\", \"KS\", \"KY\", \"LA\", \"MA\", \"MD\", \"ME\", \"MI\", \"MN\", \"MO\", \"MP\", \"MS\", \"MT\", \"NC\", \"ND\", \"NE\", \"NH\", \"NJ\", \"NM\", \"NV\", \"NY\", \"OH\", \"OK\", \"OR\", \"PA\", \"PR\", \"PUERTO RICO\", \"PW\", \"RI\", \"SC\", \"SD\", \"TN\", \"TX\", \"UT\", \"VA\", \"VI\", \"VT\", \"WA\", \"WI\", \"WV\", \"WY\"]\n",
    "   },\n",
    "   # This is how you can optionally add a comment about this expectation.\n",
    "   # It will be rendered in Data Docs.\n",
    "   meta={}\n",
    ")\n",
    "# Add the Expectation to the suite\n",
    "suite.add_expectation(expectation_configuration=expectation_configuration)\n",
    "\n",
    "expectation_configuration = ExpectationConfiguration(\n",
    "   # Name of expectation type being added\n",
    "   expectation_type=\"expect_column_values_to_not_be_null\",\n",
    "   # These are the arguments of the expectation\n",
    "   # The keys allowed in the dictionary are Parameters and\n",
    "   # Keyword Arguments of this Expectation Type\n",
    "   kwargs={\n",
    "       \"column\": \"NPI\"\n",
    "\n",
    "   },\n",
    "   # This is how you can optionally add a comment about this expectation.\n",
    "   # It will be rendered in Data Docs.\n",
    "   meta={}\n",
    ")\n",
    "# Add the Expectation to the suite\n",
    "suite.add_expectation(expectation_configuration=expectation_configuration)"
   ]
  },
  {
   "cell_type": "markdown",
   "id": "60365429",
   "metadata": {},
   "source": [
    "### Column Expectation(s)"
   ]
  },
  {
   "cell_type": "markdown",
   "id": "b7227ba8",
   "metadata": {},
   "source": [
    "No column level expectations are in this suite. Feel free to add some here.\n"
   ]
  },
  {
   "cell_type": "markdown",
   "id": "f711a5e5",
   "metadata": {},
   "source": [
    "## Review & Save Your Expectations\n",
    "\n",
    "Let's save the expectation suite as a JSON file in the `great_expectations/expectations` directory of your project.\n",
    "\n",
    "Let's now rebuild your Data Docs, which helps you communicate about your data with both machines and humans."
   ]
  },
  {
   "cell_type": "code",
   "execution_count": 8,
   "id": "195bf4c7",
   "metadata": {},
   "outputs": [
    {
     "name": "stdout",
     "output_type": "stream",
     "text": [
      "{\n",
      "  \"ge_cloud_id\": null,\n",
      "  \"meta\": {\n",
      "    \"great_expectations_version\": \"0.16.8\"\n",
      "  },\n",
      "  \"expectation_suite_name\": \"npi_small_file.critical\",\n",
      "  \"data_asset_type\": null,\n",
      "  \"expectations\": []\n",
      "}\n"
     ]
    }
   ],
   "source": [
    "print(context.get_expectation_suite(expectation_suite_name=expectation_suite_name))\n",
    "context.add_or_update_expectation_suite(expectation_suite=suite)\n",
    "\n",
    "suite_identifier = ExpectationSuiteIdentifier(expectation_suite_name=expectation_suite_name)\n",
    "context.build_data_docs(resource_identifiers=[suite_identifier])\n",
    "context.open_data_docs(resource_identifier=suite_identifier)"
   ]
  },
  {
   "cell_type": "code",
   "execution_count": null,
   "id": "80bfece6",
   "metadata": {},
   "outputs": [],
   "source": []
  }
 ],
 "metadata": {
  "kernelspec": {
   "display_name": "Python 3 (ipykernel)",
   "language": "python",
   "name": "python3"
  },
  "language_info": {
   "codemirror_mode": {
    "name": "ipython",
    "version": 3
   },
   "file_extension": ".py",
   "mimetype": "text/x-python",
   "name": "python",
   "nbconvert_exporter": "python",
   "pygments_lexer": "ipython3",
   "version": "3.10.8"
  }
 },
 "nbformat": 4,
 "nbformat_minor": 5
}
